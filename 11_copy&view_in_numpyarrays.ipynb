{
 "cells": [
  {
   "cell_type": "markdown",
   "id": "e1f530b2-660f-47ca-a972-e9c27bb43694",
   "metadata": {},
   "source": [
    "##### copy():  doesn't affect the original array"
   ]
  },
  {
   "cell_type": "code",
   "execution_count": 26,
   "id": "3988de8c-b1f6-4a0e-a992-3b549cc0f47a",
   "metadata": {},
   "outputs": [
    {
     "name": "stdout",
     "output_type": "stream",
     "text": [
      "Original array was [1 2 8 4 5]\n",
      "Copied array is [1 2 3 4 5]\n"
     ]
    }
   ],
   "source": [
    "import numpy as np\n",
    "a=np.array([1,2,3,4,5])\n",
    "copy=a.copy()\n",
    "a[2]=8\n",
    "print(f\"Original array was {a}\")\n",
    "print(f\"Copied array is {copy}\")"
   ]
  },
  {
   "cell_type": "markdown",
   "id": "3fcf12d8-5f11-496a-91b0-90f721275803",
   "metadata": {},
   "source": [
    "##### view(): affects the origial array:"
   ]
  },
  {
   "cell_type": "code",
   "execution_count": 27,
   "id": "94b1985a-a313-4005-b9a4-6d286bef2add",
   "metadata": {},
   "outputs": [
    {
     "name": "stdout",
     "output_type": "stream",
     "text": [
      "Original array was [1 2 8 4 5]\n",
      "Copied array is [1 2 8 4 5]\n"
     ]
    }
   ],
   "source": [
    "b=np.array([1,2,3,4,5])\n",
    "view=b.view()\n",
    "b[2]=8\n",
    "print(f\"Original array was {b}\")\n",
    "print(f\"Copied array is {view}\")"
   ]
  },
  {
   "cell_type": "code",
   "execution_count": null,
   "id": "f500188c-b88b-4c62-825d-d6d0aeff3b6f",
   "metadata": {},
   "outputs": [],
   "source": []
  }
 ],
 "metadata": {
  "kernelspec": {
   "display_name": "Python 3 (ipykernel)",
   "language": "python",
   "name": "python3"
  },
  "language_info": {
   "codemirror_mode": {
    "name": "ipython",
    "version": 3
   },
   "file_extension": ".py",
   "mimetype": "text/x-python",
   "name": "python",
   "nbconvert_exporter": "python",
   "pygments_lexer": "ipython3",
   "version": "3.12.2"
  }
 },
 "nbformat": 4,
 "nbformat_minor": 5
}
