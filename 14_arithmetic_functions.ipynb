{
 "cells": [
  {
   "cell_type": "markdown",
   "id": "d38a8df8-e8d9-4c34-8035-5806b9977cac",
   "metadata": {},
   "source": [
    "#### 1) Shuffle:"
   ]
  },
  {
   "cell_type": "code",
   "execution_count": 12,
   "id": "23b4ec3c-0807-42d2-83fb-080f4f03ce24",
   "metadata": {},
   "outputs": [
    {
     "name": "stdout",
     "output_type": "stream",
     "text": [
      "[4 5 2 3 1]\n"
     ]
    }
   ],
   "source": [
    "# randomly shuffles the array\n",
    "import numpy as np\n",
    "a=np.array([1,2,3,4,5])\n",
    "np.random.shuffle(a)\n",
    "print(a)"
   ]
  },
  {
   "cell_type": "markdown",
   "id": "7acd3ff7-eda0-46c5-9dc3-babc344a386b",
   "metadata": {},
   "source": [
    "#### 2) Unique:"
   ]
  },
  {
   "cell_type": "code",
   "execution_count": 16,
   "id": "34c7c726-1d48-4c9a-880c-e70797394dc0",
   "metadata": {},
   "outputs": [
    {
     "name": "stdout",
     "output_type": "stream",
     "text": [
      "(array([1, 2, 3, 4, 6]), array([0, 1, 2, 3, 6], dtype=int64), array([2, 2, 2, 3, 1], dtype=int64))\n"
     ]
    }
   ],
   "source": [
    "# only returns the elements which are repeated\n",
    "a=np.array([1,2,3,4,1,4,6,2,3,4])\n",
    "b=np.unique(a, return_index=True, return_counts=True)\n",
    "print(b)"
   ]
  },
  {
   "cell_type": "markdown",
   "id": "e0087794-a621-4563-ba26-d4d7c56a04b7",
   "metadata": {},
   "source": [
    "#### 3) Resize:"
   ]
  },
  {
   "cell_type": "code",
   "execution_count": 21,
   "id": "7fb64cb1-ba4c-4f32-8680-4fde17ccec2d",
   "metadata": {},
   "outputs": [
    {
     "name": "stdout",
     "output_type": "stream",
     "text": [
      "[[1 2]\n",
      " [3 4]]\n"
     ]
    }
   ],
   "source": [
    "# resizes the given array\n",
    "a=np.array([1,2,3,4,5,6])\n",
    "b=np.resize(a,(2,2))\n",
    "print(b)"
   ]
  },
  {
   "cell_type": "markdown",
   "id": "59a73e0b-ff62-4f7b-99bd-6e72b8ee1760",
   "metadata": {},
   "source": [
    "#### 4) Flatten:"
   ]
  },
  {
   "cell_type": "code",
   "execution_count": 22,
   "id": "260ce9c1-461c-4c81-9431-71f4b0230edd",
   "metadata": {},
   "outputs": [
    {
     "name": "stdout",
     "output_type": "stream",
     "text": [
      "[1 2 3 4 5 6 7 8]\n"
     ]
    }
   ],
   "source": [
    "# converts the given array in 1-D\n",
    "a=np.array([[1,2,3,4],[5,6,7,8]])\n",
    "b=a.flatten()\n",
    "print(b)"
   ]
  },
  {
   "cell_type": "markdown",
   "id": "dce466a7-cb5c-4713-8246-931810115881",
   "metadata": {},
   "source": [
    "#### 5) Ravel:"
   ]
  },
  {
   "cell_type": "code",
   "execution_count": 23,
   "id": "4b1da392-e49f-4fb2-8268-92951bf67e3c",
   "metadata": {},
   "outputs": [
    {
     "name": "stdout",
     "output_type": "stream",
     "text": [
      "[1 2 3 4 5 6 7 8]\n"
     ]
    }
   ],
   "source": [
    "# converts the given array in 1-D\n",
    "a=np.array([[1,2,3,4],[5,6,7,8]])\n",
    "b=a.ravel()\n",
    "print(b)"
   ]
  },
  {
   "cell_type": "code",
   "execution_count": null,
   "id": "f734caf1-5399-4b15-bb1a-644788af6e74",
   "metadata": {},
   "outputs": [],
   "source": []
  }
 ],
 "metadata": {
  "kernelspec": {
   "display_name": "Python 3 (ipykernel)",
   "language": "python",
   "name": "python3"
  },
  "language_info": {
   "codemirror_mode": {
    "name": "ipython",
    "version": 3
   },
   "file_extension": ".py",
   "mimetype": "text/x-python",
   "name": "python",
   "nbconvert_exporter": "python",
   "pygments_lexer": "ipython3",
   "version": "3.12.2"
  }
 },
 "nbformat": 4,
 "nbformat_minor": 5
}
