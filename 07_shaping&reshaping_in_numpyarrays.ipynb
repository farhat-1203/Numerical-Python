{
 "cells": [
  {
   "cell_type": "markdown",
   "id": "f0db6b29-a0c4-4c7c-8c1e-ede1ebc85eae",
   "metadata": {},
   "source": [
    "#### Shaping of a NumPy array:"
   ]
  },
  {
   "cell_type": "code",
   "execution_count": 15,
   "id": "2e667266-ce08-4f4e-b7b7-245b1265fda2",
   "metadata": {},
   "outputs": [
    {
     "name": "stdout",
     "output_type": "stream",
     "text": [
      "The shape of the given array is (2, 2)\n"
     ]
    }
   ],
   "source": [
    "import numpy as np\n",
    "a=np.array([[1,2],[1,2]],ndmin=2)\n",
    "print(f\"The shape of the given array is {a.shape}\")"
   ]
  },
  {
   "cell_type": "code",
   "execution_count": 25,
   "id": "f94ea907-471e-404a-93da-f00b7eaa95fa",
   "metadata": {},
   "outputs": [
    {
     "name": "stdout",
     "output_type": "stream",
     "text": [
      "The shape of the given array is (1, 3, 3)\n"
     ]
    }
   ],
   "source": [
    "b=np.array([[[1,2,3],[4,5,6],[7,8,9]]], ndmin=3)\n",
    "print(f\"The shape of the given array is {b.shape}\")\n",
    "\n",
    "# here, 1 represents the no. of rows from the extreme left\n",
    "# 3 represents the no. of rows from the next other [\n",
    "# and the last 3 represents the no. of columns "
   ]
  },
  {
   "cell_type": "code",
   "execution_count": 28,
   "id": "d93b521e-0951-401a-b29e-c1d2c013e988",
   "metadata": {},
   "outputs": [
    {
     "name": "stdout",
     "output_type": "stream",
     "text": [
      "The shape of the given array is (1, 1, 1, 5, 2)\n"
     ]
    }
   ],
   "source": [
    "c=np.array([[[[[1,2],[3,4],[5,6],[7,8],[9,10]]]]], ndmin=4)\n",
    "print(f\"The shape of the given array is {c.shape}\")"
   ]
  },
  {
   "cell_type": "markdown",
   "id": "8cfffc5c-64b2-4b6b-a7b9-c715122ed15b",
   "metadata": {},
   "source": [
    "#### Reshaping a given array:"
   ]
  },
  {
   "cell_type": "markdown",
   "id": "9f5c9976-5574-4f26-8bb7-133e21637f24",
   "metadata": {},
   "source": [
    "from 1-D array to a 2-D array:\n",
    "--> (rows,elements)"
   ]
  },
  {
   "cell_type": "code",
   "execution_count": 59,
   "id": "1d8b9ee6-c0b0-4d6c-a70e-0426a7f8976d",
   "metadata": {},
   "outputs": [
    {
     "name": "stdout",
     "output_type": "stream",
     "text": [
      "Given array is [1 2 3 4 5 6]\n",
      "The dimension of the given array is 1\n",
      "The given array can be reshaped as \n",
      " [[1 2]\n",
      " [3 4]\n",
      " [5 6]]\n",
      "The dimension of the reshaped array is 2\n"
     ]
    }
   ],
   "source": [
    "a=np.array([1,2,3,4,5,6])\n",
    "print(f\"Given array is {a}\")\n",
    "print(f\"The dimension of the given array is {a.ndim}\")\n",
    "x=a.reshape(3,2)\n",
    "print(f\"The given array can be reshaped as \\n {x}\")\n",
    "print(f\"The dimension of the reshaped array is {x.ndim}\")\n",
    "\n",
    "# here, 1st value in the parentheses indicates the no. of rows we want, \n",
    "# and the 2nd value indicates the no. of elements we want in the array"
   ]
  },
  {
   "cell_type": "markdown",
   "id": "71e45dbc-9321-4c02-a084-d151056b61f0",
   "metadata": {},
   "source": [
    "NOTE:\n",
    "1) the total no. of elements in the original array must be equal to the total number of elements required by the new shape\n",
    "2) the product of all the elements in the () should be equal to the total number of elements"
   ]
  },
  {
   "cell_type": "code",
   "execution_count": 51,
   "id": "b87f4e5c-007b-409b-991d-baaedc8df5a8",
   "metadata": {},
   "outputs": [
    {
     "name": "stdout",
     "output_type": "stream",
     "text": [
      "Given array is [1 2 3 4 5 6]\n",
      "The dimension of the given array is 1\n",
      "The given array can be reshaped as \n",
      " [[1 2 3]\n",
      " [4 5 6]]\n",
      "The dimension of the reshaped array is 2\n"
     ]
    }
   ],
   "source": [
    "a=np.array([1,2,3,4,5,6])\n",
    "print(f\"Given array is {a}\")\n",
    "print(f\"The dimension of the given array is {a.ndim}\")\n",
    "x=a.reshape(2,3)\n",
    "print(f\"The given array can be reshaped as \\n {x}\")\n",
    "print(f\"The dimension of the reshaped array is {x.ndim}\")"
   ]
  },
  {
   "cell_type": "markdown",
   "id": "0e331c94-21da-4acb-955e-456a7995f392",
   "metadata": {},
   "source": [
    "from 1-D array to a 3-D array:\n",
    "--> (rows, rows, elements)"
   ]
  },
  {
   "cell_type": "code",
   "execution_count": 64,
   "id": "fb55eef5-7b09-42eb-ada2-2c82b5de81e2",
   "metadata": {},
   "outputs": [
    {
     "name": "stdout",
     "output_type": "stream",
     "text": [
      "Given array is [1 2 3 4 5 6]\n",
      "The dimension of the given array is 1\n",
      "The given array can be reshaped as \n",
      " [[[1 2 3]\n",
      "  [4 5 6]]]\n",
      "The dimension of the reshaped array is 3\n"
     ]
    }
   ],
   "source": [
    "a=np.array([1,2,3,4,5,6])\n",
    "print(f\"Given array is {a}\")\n",
    "print(f\"The dimension of the given array is {a.ndim}\")\n",
    "x=a.reshape(1,2,3)\n",
    "print(f\"The given array can be reshaped as \\n {x}\")\n",
    "print(f\"The dimension of the reshaped array is {x.ndim}\")"
   ]
  },
  {
   "cell_type": "code",
   "execution_count": 66,
   "id": "f480cc70-69a5-4e15-8aa2-98f4a6575ca2",
   "metadata": {},
   "outputs": [
    {
     "name": "stdout",
     "output_type": "stream",
     "text": [
      "Given array is [1 2 3 4 5 6]\n",
      "The dimension of the given array is 1\n",
      "The given array can be reshaped as \n",
      " [[[1]\n",
      "  [2]\n",
      "  [3]\n",
      "  [4]\n",
      "  [5]\n",
      "  [6]]]\n",
      "The dimension of the reshaped array is 3\n"
     ]
    }
   ],
   "source": [
    "a=np.array([1,2,3,4,5,6])\n",
    "print(f\"Given array is {a}\")\n",
    "print(f\"The dimension of the given array is {a.ndim}\")\n",
    "x=a.reshape(1,6,1)\n",
    "print(f\"The given array can be reshaped as \\n {x}\")\n",
    "print(f\"The dimension of the reshaped array is {x.ndim}\")"
   ]
  },
  {
   "cell_type": "code",
   "execution_count": null,
   "id": "6a85200c-6809-427f-848d-57fe9d9dd305",
   "metadata": {},
   "outputs": [],
   "source": []
  }
 ],
 "metadata": {
  "kernelspec": {
   "display_name": "Python 3 (ipykernel)",
   "language": "python",
   "name": "python3"
  },
  "language_info": {
   "codemirror_mode": {
    "name": "ipython",
    "version": 3
   },
   "file_extension": ".py",
   "mimetype": "text/x-python",
   "name": "python",
   "nbconvert_exporter": "python",
   "pygments_lexer": "ipython3",
   "version": "3.12.2"
  }
 },
 "nbformat": 4,
 "nbformat_minor": 5
}
