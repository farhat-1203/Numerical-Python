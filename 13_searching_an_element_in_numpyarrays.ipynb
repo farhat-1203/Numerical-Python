{
 "cells": [
  {
   "cell_type": "markdown",
   "id": "b3e31769-1874-4cfc-bc7b-e26d63bea67d",
   "metadata": {},
   "source": [
    "#### Searching in numpy arrays:"
   ]
  },
  {
   "cell_type": "code",
   "execution_count": 21,
   "id": "9eaf52a6-7473-4548-83a6-783f827ab48e",
   "metadata": {},
   "outputs": [
    {
     "name": "stdout",
     "output_type": "stream",
     "text": [
      "(array([0, 0, 1], dtype=int64), array([1, 4, 4], dtype=int64))\n",
      "(array([0, 0, 1], dtype=int64), array([1, 4, 4], dtype=int64))\n"
     ]
    }
   ],
   "source": [
    "# searches for an element and returns it's position\n",
    "import numpy as np\n",
    "a=np.array([[1,2,3,4,2],[1,3,5,7,2]])\n",
    "b=np.where(a==2)\n",
    "print(b)\n",
    "b=np.where(a==2)\n",
    "print(b)"
   ]
  },
  {
   "cell_type": "code",
   "execution_count": 22,
   "id": "a0b535dd-a23e-4cc1-a317-f3d28256abbe",
   "metadata": {},
   "outputs": [
    {
     "name": "stdout",
     "output_type": "stream",
     "text": [
      "(array([0, 0, 1], dtype=int64), array([1, 3, 1], dtype=int64))\n"
     ]
    }
   ],
   "source": [
    "a=np.array([[1,3,6,3,2],[1,3,5,7,7]])\n",
    "b=np.where(a==3)\n",
    "print(b)"
   ]
  },
  {
   "cell_type": "markdown",
   "id": "40c7b357-c0d6-4fa1-80e7-a5c8b7da33b2",
   "metadata": {},
   "source": [
    "#### Inserting in sorted array:"
   ]
  },
  {
   "cell_type": "code",
   "execution_count": 24,
   "id": "68616fb2-f757-4340-b146-03e6db8b6633",
   "metadata": {},
   "outputs": [
    {
     "name": "stdout",
     "output_type": "stream",
     "text": [
      "4\n"
     ]
    }
   ],
   "source": [
    "# inserts the provided value in the given array in the sorted order\n",
    "x=np.array([1,2,4,5,9,6,2])\n",
    "print(np.searchsorted(x,5, side=\"right\"))"
   ]
  },
  {
   "cell_type": "markdown",
   "id": "7ceb6ee6-d00c-487d-ac99-053612ac3f92",
   "metadata": {},
   "source": [
    "#### Sorting an array:"
   ]
  },
  {
   "cell_type": "code",
   "execution_count": 27,
   "id": "7d60683b-b022-4c37-a2ed-7167b9c4c014",
   "metadata": {},
   "outputs": [
    {
     "name": "stdout",
     "output_type": "stream",
     "text": [
      "[0 1 2 3 6 6 7 9]\n"
     ]
    }
   ],
   "source": [
    "# arranges the given array in ascending order\n",
    "a=np.array([7,1,6,3,9,0,2,6])\n",
    "b=np.sort(a)\n",
    "print(b)"
   ]
  },
  {
   "cell_type": "code",
   "execution_count": 29,
   "id": "abc6bbb9-a624-48db-bdc6-6b49576502c2",
   "metadata": {},
   "outputs": [
    {
     "name": "stdout",
     "output_type": "stream",
     "text": [
      "[[2 6 7 8 9]\n",
      " [0 1 2 3 6]]\n"
     ]
    }
   ],
   "source": [
    "# 2-D array:\n",
    "a=np.array([[9,6,2,7,8],[1,3,0,2,6]])\n",
    "print(np.sort(a))"
   ]
  },
  {
   "cell_type": "markdown",
   "id": "ea812c01-aee3-426f-8be2-531080f86912",
   "metadata": {},
   "source": [
    "#### Filtering an array:"
   ]
  },
  {
   "cell_type": "code",
   "execution_count": 33,
   "id": "f501c579-f647-4f73-b489-4e87319ea1fa",
   "metadata": {},
   "outputs": [
    {
     "name": "stdout",
     "output_type": "stream",
     "text": [
      "[2 5]\n"
     ]
    }
   ],
   "source": [
    "# here, we specify the elements which we want, as a boolean value within a list\n",
    "a=np.array([1,2,3,4,5,6])\n",
    "b=[False,True,False,False,True,False]\n",
    "print(a[b])"
   ]
  },
  {
   "cell_type": "code",
   "execution_count": null,
   "id": "5145b2c3-35c9-4503-9b91-b9e80448c433",
   "metadata": {},
   "outputs": [],
   "source": []
  }
 ],
 "metadata": {
  "kernelspec": {
   "display_name": "Python 3 (ipykernel)",
   "language": "python",
   "name": "python3"
  },
  "language_info": {
   "codemirror_mode": {
    "name": "ipython",
    "version": 3
   },
   "file_extension": ".py",
   "mimetype": "text/x-python",
   "name": "python",
   "nbconvert_exporter": "python",
   "pygments_lexer": "ipython3",
   "version": "3.12.2"
  }
 },
 "nbformat": 4,
 "nbformat_minor": 5
}
