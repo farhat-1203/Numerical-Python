{
 "cells": [
  {
   "cell_type": "markdown",
   "id": "c3b132ff-43f8-496f-a0ea-ef12f905cd25",
   "metadata": {},
   "source": [
    "### Data Types:"
   ]
  },
  {
   "cell_type": "code",
   "execution_count": 2,
   "id": "0f4d9c08-6f5d-4f25-bd91-34ee99252c70",
   "metadata": {},
   "outputs": [
    {
     "name": "stdout",
     "output_type": "stream",
     "text": [
      "The data type of the given numpy array is:  int32\n"
     ]
    }
   ],
   "source": [
    "import numpy as np\n",
    "a=np.array([1,2,3,4])\n",
    "print(\"The data type of the given numpy array is: \", a.dtype)"
   ]
  },
  {
   "cell_type": "code",
   "execution_count": 4,
   "id": "a4dafbb7-7234-42a2-8c98-e9037b34fbe0",
   "metadata": {},
   "outputs": [
    {
     "name": "stdout",
     "output_type": "stream",
     "text": [
      "The data type of the given numpy array is:  <U6\n"
     ]
    }
   ],
   "source": [
    "b=np.array([\"Farhat\",\"Seemin\",\"Isha\"])\n",
    "print(\"The data type of the given numpy array is: \", b.dtype)"
   ]
  },
  {
   "cell_type": "code",
   "execution_count": 5,
   "id": "3faa6595-bfe7-4224-9367-523f4a6efcf4",
   "metadata": {},
   "outputs": [
    {
     "name": "stdout",
     "output_type": "stream",
     "text": [
      "The data type of the given numpy array is:  float64\n"
     ]
    }
   ],
   "source": [
    "c=np.array([1.2,3.4,5.6,7.8])\n",
    "print(\"The data type of the given numpy array is: \", c.dtype)"
   ]
  },
  {
   "cell_type": "code",
   "execution_count": 6,
   "id": "b7b11f70-b287-4d42-9433-71b35568149f",
   "metadata": {},
   "outputs": [
    {
     "name": "stdout",
     "output_type": "stream",
     "text": [
      "The data type of the given numpy array is:  <U11\n"
     ]
    }
   ],
   "source": [
    "d=np.array([\"Farhat\",31,\"Seemin\",28])\n",
    "print(\"The data type of the given numpy array is: \", d.dtype)"
   ]
  },
  {
   "cell_type": "markdown",
   "id": "98312b55-7199-419b-bbe4-7339f2107826",
   "metadata": {},
   "source": [
    "- Converting one data type array to another type"
   ]
  },
  {
   "cell_type": "code",
   "execution_count": 8,
   "id": "ce906925-3b3d-443a-a687-07858ecefa7d",
   "metadata": {},
   "outputs": [
    {
     "name": "stdout",
     "output_type": "stream",
     "text": [
      "The data type of the given numpy array is:  int8\n"
     ]
    }
   ],
   "source": [
    "a=np.array([1,2,3,4,5],dtype=np.int8)   \n",
    "print(\"The data type of the given numpy array is: \", a.dtype)"
   ]
  },
  {
   "cell_type": "code",
   "execution_count": 10,
   "id": "54d2fdf4-e72f-494d-8cb4-49d7ebebc64d",
   "metadata": {},
   "outputs": [
    {
     "name": "stdout",
     "output_type": "stream",
     "text": [
      "The data type of the given numpy array is:  float32\n"
     ]
    }
   ],
   "source": [
    "b=np.array([1,2,3,4,5],dtype=\"f\")\n",
    "print(\"The data type of the given numpy array is: \", b.dtype)"
   ]
  },
  {
   "cell_type": "markdown",
   "id": "66e8183b-708c-42c9-ab53-5b39f80bd96a",
   "metadata": {},
   "source": [
    "The above task can also be performed by using the dtype as a function"
   ]
  },
  {
   "cell_type": "code",
   "execution_count": 15,
   "id": "67aaea0c-193e-46a8-8bf8-285bec28ce8d",
   "metadata": {},
   "outputs": [
    {
     "name": "stdout",
     "output_type": "stream",
     "text": [
      "[1 2 3 4 5]\n",
      "The data type of the given numpy array is:  int32\n",
      "[1. 2. 3. 4. 5.]\n",
      "The data type of the given numpy array is:  float32\n"
     ]
    }
   ],
   "source": [
    "b=np.array([1,2,3,4,5])\n",
    "c=np.float32(b)\n",
    "print(b)\n",
    "print(\"The data type of the given numpy array is: \", b.dtype)\n",
    "print(c)\n",
    "print(\"The data type of the given numpy array is: \", c.dtype)"
   ]
  },
  {
   "cell_type": "markdown",
   "id": "9b2ad6f8-a1a6-48cf-a4ba-5e82edad485e",
   "metadata": {},
   "source": [
    "We can also directly perform the conversion by using the 'astype' function."
   ]
  },
  {
   "cell_type": "code",
   "execution_count": 18,
   "id": "d64eb9b8-311e-4315-8d96-25dad9a4f698",
   "metadata": {},
   "outputs": [
    {
     "name": "stdout",
     "output_type": "stream",
     "text": [
      "[1 2 3 4 5]\n",
      "The data type of the given numpy array is:  int32\n",
      "[1. 2. 3. 4. 5.]\n",
      "The data type of the given numpy array is:  float64\n"
     ]
    }
   ],
   "source": [
    "x=np.array([1,2,3,4,5])\n",
    "y=x.astype(float)\n",
    "print(x)\n",
    "print(\"The data type of the given numpy array is: \", x.dtype)\n",
    "print(y)\n",
    "print(\"The data type of the given numpy array is: \", y.dtype)"
   ]
  }
 ],
 "metadata": {
  "kernelspec": {
   "display_name": "Python 3 (ipykernel)",
   "language": "python",
   "name": "python3"
  },
  "language_info": {
   "codemirror_mode": {
    "name": "ipython",
    "version": 3
   },
   "file_extension": ".py",
   "mimetype": "text/x-python",
   "name": "python",
   "nbconvert_exporter": "python",
   "pygments_lexer": "ipython3",
   "version": "3.12.2"
  }
 },
 "nbformat": 4,
 "nbformat_minor": 5
}
