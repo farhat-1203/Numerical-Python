{
 "cells": [
  {
   "cell_type": "markdown",
   "id": "410d89fc-e8fb-4a5c-8e51-1f5d3f7a081d",
   "metadata": {},
   "source": [
    "##### min() and max():"
   ]
  },
  {
   "cell_type": "code",
   "execution_count": 27,
   "id": "8d40d70a-1f7b-4827-885b-6e057686be4b",
   "metadata": {},
   "outputs": [
    {
     "name": "stdout",
     "output_type": "stream",
     "text": [
      "The minimum element from the given array is:  1\n",
      "The maximum element from the given array is:  4\n"
     ]
    }
   ],
   "source": [
    "import  numpy as np\n",
    "a=np.array([1,2,3,4])\n",
    "print(\"The minimum element from the given array is: \",np.min(a))\n",
    "print(\"The maximum element from the given array is: \",np.max(a))"
   ]
  },
  {
   "cell_type": "markdown",
   "id": "84519470-589a-435d-ac4b-beccc0790e3b",
   "metadata": {},
   "source": [
    "##### argmin() and argmax():"
   ]
  },
  {
   "cell_type": "code",
   "execution_count": 8,
   "id": "35b36887-0ced-42bd-931b-b82baf61de80",
   "metadata": {},
   "outputs": [
    {
     "name": "stdout",
     "output_type": "stream",
     "text": [
      "The minimum element 1 lies on the 0th position\n",
      "The maximum element 4 lies on the 3th position\n"
     ]
    }
   ],
   "source": [
    "a=np.array([1,2,3,4])\n",
    "print(f\"The minimum element, {np.min(a)} lies on the {np.argmin(a)}th position\")\n",
    "print(f\"The maximum element, {np.max(a)} lies on the {np.argmax(a)}th position\")"
   ]
  },
  {
   "cell_type": "markdown",
   "id": "858bf1dc-01c4-4043-9af1-e04c6b3397ba",
   "metadata": {},
   "source": [
    "for a 2-D array:"
   ]
  },
  {
   "cell_type": "code",
   "execution_count": 15,
   "id": "1d1ce097-34dd-49d8-af3d-9dbddc7c4d4a",
   "metadata": {},
   "outputs": [
    {
     "name": "stdout",
     "output_type": "stream",
     "text": [
      "[1 2 3 4]\n"
     ]
    }
   ],
   "source": [
    "# for 2-D array specify the axis along which you want the min element (axis=0 for col & axis=1 for row)\n",
    "a=np.array([[1,2,3,4], [5,6,7,8]])\n",
    "print(np.min(a,axis=0))   "
   ]
  },
  {
   "cell_type": "markdown",
   "id": "ded931f2-96c7-4d97-8ed0-fbce2965f98c",
   "metadata": {},
   "source": [
    "##### square root of the elements of an array:"
   ]
  },
  {
   "cell_type": "code",
   "execution_count": 17,
   "id": "599cbc47-9fcf-4193-9d07-511d94853db4",
   "metadata": {},
   "outputs": [
    {
     "name": "stdout",
     "output_type": "stream",
     "text": [
      "The square root of each element from the given array is: [1.         1.41421356 1.73205081 2.        ]\n"
     ]
    }
   ],
   "source": [
    "a=np.array([1,2,3,4])\n",
    "print(f\"The square root of each element from the given array is: {np.sqrt(a)}\")"
   ]
  },
  {
   "cell_type": "markdown",
   "id": "69e021eb-fccf-49a6-9e8a-341415df9897",
   "metadata": {},
   "source": [
    "##### sin() value of the elements of an array:"
   ]
  },
  {
   "cell_type": "code",
   "execution_count": 24,
   "id": "53f70ed6-f46b-4d18-82a3-1dafa1223e45",
   "metadata": {},
   "outputs": [
    {
     "name": "stdout",
     "output_type": "stream",
     "text": [
      "The sine of each value of the given array is [0.84147098 0.90929743 0.14112001]\n"
     ]
    }
   ],
   "source": [
    "x=np.array([1,2,3])\n",
    "print(f\"The sine of each value of the given array is {np.sin(x)}\")"
   ]
  },
  {
   "cell_type": "markdown",
   "id": "77e4530c-5d2b-47d8-9f51-434375805320",
   "metadata": {},
   "source": [
    "##### cos() value of the elements of an array:"
   ]
  },
  {
   "cell_type": "code",
   "execution_count": 25,
   "id": "e64071b0-6f08-4f65-9a89-02c9f6fcfdf7",
   "metadata": {},
   "outputs": [
    {
     "name": "stdout",
     "output_type": "stream",
     "text": [
      "The cosine of each value of the given array is [ 0.54030231 -0.41614684 -0.9899925 ]\n"
     ]
    }
   ],
   "source": [
    "x=np.array([1,2,3])\n",
    "print(f\"The cosine of each value of the given array is {np.cos(x)}\")"
   ]
  },
  {
   "cell_type": "markdown",
   "id": "2cf0dbcb-3799-4184-9dfe-984e995620d2",
   "metadata": {},
   "source": [
    "##### community sum of an array:"
   ]
  },
  {
   "cell_type": "code",
   "execution_count": 26,
   "id": "e99df97e-d739-4500-8cbc-2a2ae99c3668",
   "metadata": {},
   "outputs": [
    {
     "name": "stdout",
     "output_type": "stream",
     "text": [
      "The community sum of the given array is [1 3 6]\n"
     ]
    }
   ],
   "source": [
    "x=np.array([1,2,3])\n",
    "print(f\"The community sum of the given array is {np.cumsum(x)}\")  \n",
    "# here we add all the elements one by one with it's previous element"
   ]
  },
  {
   "cell_type": "code",
   "execution_count": null,
   "id": "58cf5dc8-6ba4-4993-8a68-ecc0d4ebee67",
   "metadata": {},
   "outputs": [],
   "source": []
  }
 ],
 "metadata": {
  "kernelspec": {
   "display_name": "Python 3 (ipykernel)",
   "language": "python",
   "name": "python3"
  },
  "language_info": {
   "codemirror_mode": {
    "name": "ipython",
    "version": 3
   },
   "file_extension": ".py",
   "mimetype": "text/x-python",
   "name": "python",
   "nbconvert_exporter": "python",
   "pygments_lexer": "ipython3",
   "version": "3.12.2"
  }
 },
 "nbformat": 4,
 "nbformat_minor": 5
}
