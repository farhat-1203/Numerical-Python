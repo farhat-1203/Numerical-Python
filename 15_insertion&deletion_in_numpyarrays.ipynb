{
 "cells": [
  {
   "cell_type": "markdown",
   "id": "baac2192-dc24-4e04-a573-a15f79714379",
   "metadata": {},
   "source": [
    "#### Inserting an element in numpy array:"
   ]
  },
  {
   "cell_type": "code",
   "execution_count": 5,
   "id": "ba10c272-afd7-4e28-a4e7-9b989a4065c9",
   "metadata": {},
   "outputs": [
    {
     "name": "stdout",
     "output_type": "stream",
     "text": [
      "[1 2 3 4 6]\n"
     ]
    }
   ],
   "source": [
    "import numpy as np\n",
    "a=np.array([1,2,3,4])\n",
    "print(np.insert(a,4,6))      # np.insert(variable_name,(index),value_to_be_inserted)"
   ]
  },
  {
   "cell_type": "code",
   "execution_count": 9,
   "id": "7f68194c-5c82-4c62-96de-87842ef4df50",
   "metadata": {},
   "outputs": [
    {
     "name": "stdout",
     "output_type": "stream",
     "text": [
      "[[1 2 3 4 5]\n",
      " [5 6 7 8 5]]\n"
     ]
    }
   ],
   "source": [
    "a=np.array([[1,2,3,4],[5,6,7,8]])\n",
    "print(np.insert(a,4,5, axis=1))   "
   ]
  },
  {
   "cell_type": "code",
   "execution_count": 20,
   "id": "b2fb0a8a-5baa-47c4-b29e-fbfe73b617d4",
   "metadata": {},
   "outputs": [
    {
     "name": "stdout",
     "output_type": "stream",
     "text": [
      "[[ 1  2  3  4]\n",
      " [ 5  6  7  8]\n",
      " [ 9 10 11 12]]\n"
     ]
    }
   ],
   "source": [
    "a=np.array([[1,2,3,4],[5,6,7,8]])            # must be 2-D array with same no. of cols\n",
    "print(np.append(a,[[9,10,11,12]], axis=0))   # append as a new row"
   ]
  },
  {
   "cell_type": "code",
   "execution_count": 21,
   "id": "a73f1cf9-0c32-4221-8f16-9d748211d0a8",
   "metadata": {},
   "outputs": [
    {
     "name": "stdout",
     "output_type": "stream",
     "text": [
      "[[ 1  2  3  4  9]\n",
      " [ 5  6  7  8 10]]\n"
     ]
    }
   ],
   "source": [
    "a=np.array([[1,2,3,4],[5,6,7,8]])        # must be 2-D array with same no. of rows\n",
    "print(np.append(a,[[9],[10]], axis=1))   # append as a new column"
   ]
  },
  {
   "cell_type": "markdown",
   "id": "dcf1ce2b-e6ad-4d0c-a05d-19e0ff804533",
   "metadata": {},
   "source": [
    "#### Deleting an element from numpy arrays:"
   ]
  },
  {
   "cell_type": "code",
   "execution_count": 22,
   "id": "82a010c7-d85c-43d4-a290-d294afef61ed",
   "metadata": {},
   "outputs": [
    {
     "name": "stdout",
     "output_type": "stream",
     "text": [
      "[1 2 4]\n"
     ]
    }
   ],
   "source": [
    "a=np.array([1,2,3,4])\n",
    "print(np.delete(a,2))        # np.delete(variable_name,index_no)"
   ]
  },
  {
   "cell_type": "code",
   "execution_count": 26,
   "id": "05db3928-eb08-4391-985a-d9500c5e48c7",
   "metadata": {},
   "outputs": [
    {
     "name": "stdout",
     "output_type": "stream",
     "text": [
      "[[1 2 3 4]]\n"
     ]
    }
   ],
   "source": [
    "a=np.array([[1,2,3,4],[5,6,7,8]])\n",
    "print(np.delete(a,1,axis=0))"
   ]
  },
  {
   "cell_type": "code",
   "execution_count": null,
   "id": "faffbb65-671a-49b0-b399-4c5b6a07cfd0",
   "metadata": {},
   "outputs": [],
   "source": []
  }
 ],
 "metadata": {
  "kernelspec": {
   "display_name": "Python 3 (ipykernel)",
   "language": "python",
   "name": "python3"
  },
  "language_info": {
   "codemirror_mode": {
    "name": "ipython",
    "version": 3
   },
   "file_extension": ".py",
   "mimetype": "text/x-python",
   "name": "python",
   "nbconvert_exporter": "python",
   "pygments_lexer": "ipython3",
   "version": "3.12.2"
  }
 },
 "nbformat": 4,
 "nbformat_minor": 5
}
