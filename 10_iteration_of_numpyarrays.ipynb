{
 "cells": [
  {
   "cell_type": "markdown",
   "id": "4283e5d0-9ad2-4c68-8dad-55309d425231",
   "metadata": {},
   "source": [
    "### Iterating Numpy arrays:"
   ]
  },
  {
   "cell_type": "markdown",
   "id": "44e9a097-e7c1-452d-b3bb-60d61eb8cf8b",
   "metadata": {},
   "source": [
    "#### Method 1: by using 'for' loop"
   ]
  },
  {
   "cell_type": "markdown",
   "id": "5315a443-84f8-45cf-bb04-af9eb8e6e519",
   "metadata": {},
   "source": [
    "##### for 1-D array:"
   ]
  },
  {
   "cell_type": "code",
   "execution_count": 20,
   "id": "30ee67ab-6ec7-45d5-80ac-b3114f389657",
   "metadata": {},
   "outputs": [
    {
     "name": "stdout",
     "output_type": "stream",
     "text": [
      "1\n",
      "2\n",
      "3\n",
      "4\n",
      "5\n",
      "6\n"
     ]
    }
   ],
   "source": [
    "import numpy as np\n",
    "a=np.array([1,2,3,4,5,6])\n",
    "for i in a:\n",
    "    print(i)"
   ]
  },
  {
   "cell_type": "markdown",
   "id": "30301fed-4aa3-4be4-9328-398b196be56d",
   "metadata": {},
   "source": [
    "##### for 2-D array:"
   ]
  },
  {
   "cell_type": "code",
   "execution_count": 21,
   "id": "8c3ff8bf-4375-40e4-8a4c-3e0289da02c8",
   "metadata": {},
   "outputs": [
    {
     "name": "stdout",
     "output_type": "stream",
     "text": [
      "[1 2 3]\n",
      "[4 5 6]\n"
     ]
    }
   ],
   "source": [
    "b=np.array([[1,2,3],[4,5,6]])\n",
    "for i in b:\n",
    "        print(i)"
   ]
  },
  {
   "cell_type": "code",
   "execution_count": 22,
   "id": "27feb311-eabc-4be5-86b9-2edb5dc7d303",
   "metadata": {},
   "outputs": [
    {
     "name": "stdout",
     "output_type": "stream",
     "text": [
      "1\n",
      "2\n",
      "3\n",
      "4\n",
      "5\n",
      "6\n"
     ]
    }
   ],
   "source": [
    "# if we don't want those two rows to be printed, then we use nested 'for' loop\n",
    "b=np.array([[1,2,3],[4,5,6]])\n",
    "for i in b:\n",
    "    for j in i:\n",
    "        print(j)"
   ]
  },
  {
   "cell_type": "markdown",
   "id": "7c657266-313c-407f-82b4-2bf10f92ac78",
   "metadata": {},
   "source": [
    "##### for 3-D array:"
   ]
  },
  {
   "cell_type": "code",
   "execution_count": 23,
   "id": "7b2a2b0a-57c8-4312-82e5-4963d3bdaae9",
   "metadata": {},
   "outputs": [
    {
     "name": "stdout",
     "output_type": "stream",
     "text": [
      "[[1 2 3]\n",
      " [4 5 6]\n",
      " [7 8 9]]\n"
     ]
    }
   ],
   "source": [
    "c=np.array([[[1,2,3],[4,5,6],[7,8,9]]])\n",
    "for i in c:\n",
    "    print(i)"
   ]
  },
  {
   "cell_type": "code",
   "execution_count": 24,
   "id": "5a1da508-a3c9-4601-93f6-7fe04a76c3b2",
   "metadata": {},
   "outputs": [
    {
     "name": "stdout",
     "output_type": "stream",
     "text": [
      "1\n",
      "2\n",
      "3\n",
      "4\n",
      "5\n",
      "6\n",
      "7\n",
      "8\n",
      "9\n"
     ]
    }
   ],
   "source": [
    "c=np.array([[[1,2,3],[4,5,6],[7,8,9]]])\n",
    "for i in c:\n",
    "    for j in i:\n",
    "        for k in j:\n",
    "            print(k)"
   ]
  },
  {
   "cell_type": "markdown",
   "id": "4644127b-2001-4cda-bc49-5d376f625645",
   "metadata": {},
   "source": [
    "#### Method 2: by using the function 'nditer'"
   ]
  },
  {
   "cell_type": "code",
   "execution_count": 35,
   "id": "61d74c25-1ca7-426a-8066-a2b505998c12",
   "metadata": {},
   "outputs": [
    {
     "name": "stdout",
     "output_type": "stream",
     "text": [
      "1\n",
      "2\n",
      "3\n",
      "4\n",
      "5\n",
      "6\n",
      "7\n",
      "8\n",
      "9\n"
     ]
    }
   ],
   "source": [
    "c=np.array([[[1,2,3],[4,5,6],[7,8,9]]])\n",
    "for i in np.nditer(c):                  # we use 'nditer' function to iterate over a given array\n",
    "    print(i)                                                 "
   ]
  },
  {
   "cell_type": "code",
   "execution_count": 36,
   "id": "8a30a9c0-7d10-4dc0-9458-20d83f3257fc",
   "metadata": {},
   "outputs": [
    {
     "name": "stdout",
     "output_type": "stream",
     "text": [
      "b'1'\n",
      "b'2'\n",
      "b'3'\n",
      "b'4'\n",
      "b'5'\n",
      "b'6'\n",
      "b'7'\n",
      "b'8'\n",
      "b'9'\n"
     ]
    }
   ],
   "source": [
    "c=np.array([[[1,2,3],[4,5,6],[7,8,9]]])\n",
    "for i in np.nditer(c, flags=[\"buffered\"],op_dtypes=[\"S\"]):    # here, we are changing the data types using the op_dtypes=[\"new_data.type\"]\n",
    "    print(i)                                                  # the flags= \"buffered\" here indicates that a temporary buffer is created to store the new array of another data type"
   ]
  },
  {
   "cell_type": "code",
   "execution_count": 33,
   "id": "304267a5-5c8d-498e-b99d-62cbb68eb458",
   "metadata": {},
   "outputs": [
    {
     "name": "stdout",
     "output_type": "stream",
     "text": [
      "(0, 0, 0) 1\n",
      "(0, 0, 1) 2\n",
      "(0, 0, 2) 3\n",
      "(0, 1, 0) 4\n",
      "(0, 1, 1) 5\n",
      "(0, 1, 2) 6\n",
      "(0, 2, 0) 7\n",
      "(0, 2, 1) 8\n",
      "(0, 2, 2) 9\n"
     ]
    }
   ],
   "source": [
    "c=np.array([[[1,2,3],[4,5,6],[7,8,9]]])\n",
    "for i,d in np.ndenumerate(c):      # if we want index no. along with the data, then we use 'ndenumerate' function to do so\n",
    "    print(i,d)                                                 "
   ]
  },
  {
   "cell_type": "code",
   "execution_count": null,
   "id": "827b4834-4867-4561-94f8-7c07624f2891",
   "metadata": {},
   "outputs": [],
   "source": []
  }
 ],
 "metadata": {
  "kernelspec": {
   "display_name": "Python 3 (ipykernel)",
   "language": "python",
   "name": "python3"
  },
  "language_info": {
   "codemirror_mode": {
    "name": "ipython",
    "version": 3
   },
   "file_extension": ".py",
   "mimetype": "text/x-python",
   "name": "python",
   "nbconvert_exporter": "python",
   "pygments_lexer": "ipython3",
   "version": "3.12.2"
  }
 },
 "nbformat": 4,
 "nbformat_minor": 5
}
