{
 "cells": [
  {
   "cell_type": "markdown",
   "id": "3afad130-2136-4a38-ad56-abe5222db5e9",
   "metadata": {},
   "source": [
    "### Addition of arrays :"
   ]
  },
  {
   "cell_type": "code",
   "execution_count": 2,
   "id": "39a578f4-cf0d-4498-a354-38fc05edbad3",
   "metadata": {},
   "outputs": [
    {
     "name": "stdout",
     "output_type": "stream",
     "text": [
      "[3 4 5 6]\n"
     ]
    }
   ],
   "source": [
    "import numpy as np\n",
    "a=np.array([1,2,3,4])    # for 1-D array, we specify a number by which we want each element to be added in that array\n",
    "add= a + 2   \n",
    "print(add)"
   ]
  },
  {
   "cell_type": "code",
   "execution_count": 3,
   "id": "eb31e206-3b9d-4ce7-8eac-84013e7f0bc0",
   "metadata": {},
   "outputs": [
    {
     "name": "stdout",
     "output_type": "stream",
     "text": [
      "[3 4 5 6]\n"
     ]
    }
   ],
   "source": [
    "a=np.array([1,2,3,4])  \n",
    "add= np.add(a,2)  \n",
    "print(add)"
   ]
  },
  {
   "cell_type": "code",
   "execution_count": 5,
   "id": "84ae9863-5bff-40dd-8450-c732a7158421",
   "metadata": {},
   "outputs": [
    {
     "name": "stdout",
     "output_type": "stream",
     "text": [
      "[ 6  8 10 12]\n"
     ]
    }
   ],
   "source": [
    "# the same task can be performed as\n",
    "a=np.array([1,2,3,4])\n",
    "b=np.array([5,6,7,8])\n",
    "var_add = a+b\n",
    "print(var_add)"
   ]
  },
  {
   "cell_type": "code",
   "execution_count": 4,
   "id": "7dea99af-98f2-4921-9f19-b91312edfc14",
   "metadata": {},
   "outputs": [
    {
     "name": "stdout",
     "output_type": "stream",
     "text": [
      "[ 6  8 10 12]\n"
     ]
    }
   ],
   "source": [
    "a=np.array([1,2,3,4])\n",
    "b=np.array([5,6,7,8])\n",
    "var_add = np.add(a,b)\n",
    "print(var_add)"
   ]
  },
  {
   "cell_type": "markdown",
   "id": "52e2c314-890a-46d7-92b4-438510cee4b5",
   "metadata": {},
   "source": [
    "### Subtraction of arrays:"
   ]
  },
  {
   "cell_type": "code",
   "execution_count": 6,
   "id": "cccc4111-b2db-4d8b-8965-f5baad35a6c7",
   "metadata": {},
   "outputs": [
    {
     "name": "stdout",
     "output_type": "stream",
     "text": [
      "[ 6  8 10 12]\n"
     ]
    }
   ],
   "source": [
    "a=np.array([1,2,3,4])\n",
    "b=np.array([5,6,7,8])\n",
    "var_subtract = a+b\n",
    "print(var_add)"
   ]
  },
  {
   "cell_type": "code",
   "execution_count": 7,
   "id": "227406e8-b03b-4e1f-bc9f-6d974e88303f",
   "metadata": {},
   "outputs": [
    {
     "name": "stdout",
     "output_type": "stream",
     "text": [
      "[[ 6  8 10 12]]\n"
     ]
    }
   ],
   "source": [
    "# 2-D array:\n",
    "import numpy as np\n",
    "a=np.array([1,2,3,4],ndmin=2)   \n",
    "b=np.array([5,6,7,8],ndmin=2)\n",
    "var_subtract= np.add(a,b)   \n",
    "print(var_subtract)"
   ]
  },
  {
   "cell_type": "markdown",
   "id": "2ef5b848-4c2f-4bda-bbe1-cfe5b4c94732",
   "metadata": {},
   "source": [
    "### Multiplication of arrays:"
   ]
  },
  {
   "cell_type": "code",
   "execution_count": 8,
   "id": "bfe73d9f-72f2-4a0e-920a-7066e1100063",
   "metadata": {},
   "outputs": [
    {
     "name": "stdout",
     "output_type": "stream",
     "text": [
      "[ 5 12 21 32]\n"
     ]
    }
   ],
   "source": [
    "a=np.array([1,2,3,4])\n",
    "b=np.array([5,6,7,8])\n",
    "var_mul = a*b\n",
    "print(var_mul)"
   ]
  },
  {
   "cell_type": "code",
   "execution_count": 9,
   "id": "db5630ba-6a75-4260-9291-feea118e7fe8",
   "metadata": {},
   "outputs": [
    {
     "name": "stdout",
     "output_type": "stream",
     "text": [
      "[[ 5 12 21 32]]\n"
     ]
    }
   ],
   "source": [
    "# 2-D array:\n",
    "import numpy as np\n",
    "a=np.array([1,2,3,4],ndmin=2)   \n",
    "b=np.array([5,6,7,8],ndmin=2)\n",
    "var_mul= np.multiply(a,b)   \n",
    "print(var_mul)"
   ]
  },
  {
   "cell_type": "markdown",
   "id": "64eceeb3-ae54-493b-93f0-debaba66368b",
   "metadata": {},
   "source": [
    "### Division of arrays:"
   ]
  },
  {
   "cell_type": "code",
   "execution_count": 10,
   "id": "cef00c21-9c77-416d-97db-50e8312c52fe",
   "metadata": {},
   "outputs": [
    {
     "name": "stdout",
     "output_type": "stream",
     "text": [
      "[0.2        0.33333333 0.42857143 0.5       ]\n"
     ]
    }
   ],
   "source": [
    "a=np.array([1,2,3,4])\n",
    "b=np.array([5,6,7,8])\n",
    "var_div = a/b\n",
    "print(var_div)"
   ]
  },
  {
   "cell_type": "code",
   "execution_count": 11,
   "id": "3fdcacd5-45e5-40e6-b304-a1ae6ac0cd65",
   "metadata": {},
   "outputs": [
    {
     "name": "stdout",
     "output_type": "stream",
     "text": [
      "[[[0.2        0.33333333 0.42857143 0.5       ]]]\n"
     ]
    }
   ],
   "source": [
    "# 3-D array:\n",
    "a=np.array([1,2,3,4],ndmin=3)\n",
    "b=np.array([5,6,7,8],ndmin=3)\n",
    "var_div = np.divide(a,b)\n",
    "print(var_div)"
   ]
  },
  {
   "cell_type": "markdown",
   "id": "b3981a1e-3b01-4697-b7b8-6cfbe3f02056",
   "metadata": {},
   "source": [
    "### Modulus of two arrays:"
   ]
  },
  {
   "cell_type": "code",
   "execution_count": 12,
   "id": "e3560363-8ef4-453d-9123-26193226030a",
   "metadata": {},
   "outputs": [
    {
     "name": "stdout",
     "output_type": "stream",
     "text": [
      "[1 2 3 4]\n"
     ]
    }
   ],
   "source": [
    "a=np.array([1,2,3,4])\n",
    "b=np.array([5,6,7,8])\n",
    "var_mod = a%b\n",
    "print(var_mod)"
   ]
  },
  {
   "cell_type": "code",
   "execution_count": 13,
   "id": "110b2423-02be-418f-bba7-52c9de8f259c",
   "metadata": {},
   "outputs": [
    {
     "name": "stdout",
     "output_type": "stream",
     "text": [
      "[[1 2 3 4]]\n"
     ]
    }
   ],
   "source": [
    "a=np.array([1,2,3,4],ndmin=2)\n",
    "b=np.array([5,6,7,8],ndmin=2)\n",
    "var_mod = np.mod(a,b)\n",
    "print(var_mod)"
   ]
  },
  {
   "cell_type": "markdown",
   "id": "d25a8e08-5175-49ce-af96-142382ffe1bf",
   "metadata": {},
   "source": [
    "### Power of  two arrays:"
   ]
  },
  {
   "cell_type": "code",
   "execution_count": 14,
   "id": "d07737ae-cc6b-468f-b615-bd16ada39cad",
   "metadata": {},
   "outputs": [
    {
     "name": "stdout",
     "output_type": "stream",
     "text": [
      "[    1    64  2187 65536]\n"
     ]
    }
   ],
   "source": [
    "a=np.array([1,2,3,4])\n",
    "b=np.array([5,6,7,8])\n",
    "var_power = a**b\n",
    "print(var_power)"
   ]
  },
  {
   "cell_type": "code",
   "execution_count": 15,
   "id": "696ee3c4-0e80-42ea-9886-371ee61e3159",
   "metadata": {},
   "outputs": [
    {
     "name": "stdout",
     "output_type": "stream",
     "text": [
      "[[[    1    64  2187 65536]]]\n"
     ]
    }
   ],
   "source": [
    "a=np.array([1,2,3,4],ndmin=3)\n",
    "b=np.array([5,6,7,8],ndmin=3)\n",
    "var_power = np.power(a,b)\n",
    "print(var_power)"
   ]
  },
  {
   "cell_type": "markdown",
   "id": "59a6d6ee-496d-4648-ae03-ca9cfa5de41e",
   "metadata": {},
   "source": [
    "### Reciprocal of an array:"
   ]
  },
  {
   "cell_type": "code",
   "execution_count": 21,
   "id": "175429ce-b606-45c7-b142-a3db3fdd982d",
   "metadata": {},
   "outputs": [
    {
     "name": "stdout",
     "output_type": "stream",
     "text": [
      "[1.         0.5        0.33333333 0.25      ]\n"
     ]
    }
   ],
   "source": [
    "a=np.array([1,2,3,4])\n",
    "var_invert = 1/a\n",
    "print(var_invert)"
   ]
  },
  {
   "cell_type": "code",
   "execution_count": 22,
   "id": "8cb20eae-a4cf-4d35-9c91-eacd4b677550",
   "metadata": {},
   "outputs": [
    {
     "name": "stdout",
     "output_type": "stream",
     "text": [
      "[1 0 0 0]\n"
     ]
    }
   ],
   "source": [
    "a=np.array([1,2,3,4])\n",
    "var_invert = np.reciprocal(a)\n",
    "print(var_invert)"
   ]
  },
  {
   "cell_type": "code",
   "execution_count": null,
   "id": "c8794a0d-fbb7-4583-8c3c-bf046edd2c6c",
   "metadata": {},
   "outputs": [],
   "source": []
  },
  {
   "cell_type": "code",
   "execution_count": null,
   "id": "2889715b-b092-4b8c-8d4b-4ac9a1f63ddf",
   "metadata": {},
   "outputs": [],
   "source": []
  }
 ],
 "metadata": {
  "kernelspec": {
   "display_name": "Python 3 (ipykernel)",
   "language": "python",
   "name": "python3"
  },
  "language_info": {
   "codemirror_mode": {
    "name": "ipython",
    "version": 3
   },
   "file_extension": ".py",
   "mimetype": "text/x-python",
   "name": "python",
   "nbconvert_exporter": "python",
   "pygments_lexer": "ipython3",
   "version": "3.12.2"
  }
 },
 "nbformat": 4,
 "nbformat_minor": 5
}
