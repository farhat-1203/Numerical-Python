{
 "cells": [
  {
   "cell_type": "code",
   "execution_count": 5,
   "id": "fa4c8ca2-b6e1-4667-9cf9-0afaad2c4183",
   "metadata": {},
   "outputs": [
    {
     "name": "stdout",
     "output_type": "stream",
     "text": [
      "<class 'numpy.ndarray'>\n"
     ]
    }
   ],
   "source": [
    "a= np.array([[1,2,3,4],[5,6,7,8]])\n",
    "print(type(a))"
   ]
  },
  {
   "cell_type": "markdown",
   "id": "058f5e60-ea41-4d6a-a21c-24e392c7b8cf",
   "metadata": {},
   "source": [
    "#### Matrix:"
   ]
  },
  {
   "cell_type": "code",
   "execution_count": 6,
   "id": "694a8d32-bd99-41db-b9e2-8a2e3d3274e2",
   "metadata": {},
   "outputs": [
    {
     "name": "stdout",
     "output_type": "stream",
     "text": [
      "<class 'numpy.matrix'>\n"
     ]
    }
   ],
   "source": [
    "import numpy as np\n",
    "a= np.matrix([[1,2,3,4],[5,6,7,8]])\n",
    "print(type(a))"
   ]
  },
  {
   "cell_type": "code",
   "execution_count": 11,
   "id": "d70850ee-329a-4b59-bf1f-65bba9384308",
   "metadata": {},
   "outputs": [
    {
     "name": "stdout",
     "output_type": "stream",
     "text": [
      "[[ 2  4  6  8]\n",
      " [10 12 14 16]]\n"
     ]
    }
   ],
   "source": [
    "a=np.matrix([[1,2,3,4],[5,6,7,8]])\n",
    "b=np.matrix([[1,2,3,4],[5,6,7,8]])\n",
    "print(a+b)\n",
    "# Addition of two matrices is same as that with arrays"
   ]
  },
  {
   "cell_type": "code",
   "execution_count": 17,
   "id": "e9312a81-a617-4bb9-a379-3a229d127ee4",
   "metadata": {},
   "outputs": [
    {
     "name": "stdout",
     "output_type": "stream",
     "text": [
      "[[11 14 17 20]\n",
      " [35 46 57 68]]\n",
      "[[11 14 17 20]\n",
      " [35 46 57 68]]\n"
     ]
    }
   ],
   "source": [
    "a=np.matrix([[1,2],[5,6]])        \n",
    "b=np.matrix([[1,2,3,4],[5,6,7,8]])\n",
    "print(a*b)\n",
    "print(a.dot(b))\n",
    "# for matrix multiplication, no. of columns in 'a' must match the no. of rows in 'b'\n",
    "# here we have (2,2) and (2,4) matrix"
   ]
  },
  {
   "cell_type": "markdown",
   "id": "ac1f9d62-2c6d-4d04-9828-746ff3e9857b",
   "metadata": {},
   "source": [
    "#### Functions of a matrix:"
   ]
  },
  {
   "cell_type": "markdown",
   "id": "aded6aa0-8080-4b65-85be-644a428c3131",
   "metadata": {},
   "source": [
    "##### 1) Transpose of a matrix:"
   ]
  },
  {
   "cell_type": "code",
   "execution_count": 25,
   "id": "5418004e-34d3-48cb-b07e-23bc4feccf53",
   "metadata": {},
   "outputs": [
    {
     "name": "stdout",
     "output_type": "stream",
     "text": [
      "[[ 1  6]\n",
      " [ 2  7]\n",
      " [ 3  8]\n",
      " [ 4  9]\n",
      " [ 5 10]]\n"
     ]
    }
   ],
   "source": [
    "a=np.array([[1,2,3,4,5],[6,7,8,9,10]])     # (2 rows, 5 cols)\n",
    "print(a.T)                                 # (5 rows, 2 cols)"
   ]
  },
  {
   "cell_type": "markdown",
   "id": "3bc40629-dd88-4b04-9ee9-466cfadfd26c",
   "metadata": {},
   "source": [
    "##### 2) Swap the axis of a matrix:"
   ]
  },
  {
   "cell_type": "code",
   "execution_count": 29,
   "id": "4504b828-186a-4dbd-8b4d-d4cfb1dc5051",
   "metadata": {},
   "outputs": [
    {
     "name": "stdout",
     "output_type": "stream",
     "text": [
      "[[ 1  6]\n",
      " [ 2  7]\n",
      " [ 3  8]\n",
      " [ 4  9]\n",
      " [ 5 10]]\n"
     ]
    }
   ],
   "source": [
    "a=np.array([[1,2,3,4,5],[6,7,8,9,10]])    \n",
    "print(np.swapaxes(a,1,0))                       # np.swapaxes(var_name, indexno.of_the_array, result_array)"
   ]
  },
  {
   "cell_type": "markdown",
   "id": "6c32333b-947b-4931-9d36-93209f0bed42",
   "metadata": {},
   "source": [
    "##### 3) Inverse of a matrix:"
   ]
  },
  {
   "cell_type": "code",
   "execution_count": 40,
   "id": "8620c93e-43ae-41e0-8411-a159b715d77e",
   "metadata": {},
   "outputs": [
    {
     "name": "stdout",
     "output_type": "stream",
     "text": [
      "[[-2.   1. ]\n",
      " [ 1.5 -0.5]]\n"
     ]
    }
   ],
   "source": [
    "a=np.matrix([[1,2],[3,4]])\n",
    "print(np.linalg.inv(a))\n",
    "# provided the matrix is square"
   ]
  },
  {
   "cell_type": "markdown",
   "id": "32f794db-cd6c-4a33-bc5a-8f7390a84054",
   "metadata": {},
   "source": [
    "##### 4) Power of a matrix:"
   ]
  },
  {
   "cell_type": "code",
   "execution_count": 46,
   "id": "fe9df964-db8d-4db9-968d-be274310f5db",
   "metadata": {},
   "outputs": [
    {
     "name": "stdout",
     "output_type": "stream",
     "text": [
      "[[ 90 100 110 120]\n",
      " [202 228 254 280]\n",
      " [314 356 398 440]\n",
      " [426 484 542 600]]\n"
     ]
    }
   ],
   "source": [
    "a=np.array([[1,2,3,4],[5,6,7,8],[9,10,11,12],[13,14,15,16]])\n",
    "print(np.linalg.matrix_power(a,2))           # np.linalg.matrix_power(varname, power)\n",
    "# provided the matrix is square"
   ]
  },
  {
   "cell_type": "markdown",
   "id": "47aa5475-ef3b-4b1e-bf39-a5f909622d23",
   "metadata": {},
   "source": [
    "##### 5) Determinant of a matrix:"
   ]
  },
  {
   "cell_type": "code",
   "execution_count": 49,
   "id": "9da7bffb-743c-4892-b9b4-f0e1c0072cf6",
   "metadata": {},
   "outputs": [
    {
     "name": "stdout",
     "output_type": "stream",
     "text": [
      "-2.0000000000000004\n"
     ]
    }
   ],
   "source": [
    "a=np.array([[1,2],[3,4]])\n",
    "print(np.linalg.det(a))"
   ]
  },
  {
   "cell_type": "code",
   "execution_count": null,
   "id": "123ce495-502a-4d76-9b2d-4c8cead4f287",
   "metadata": {},
   "outputs": [],
   "source": []
  }
 ],
 "metadata": {
  "kernelspec": {
   "display_name": "Python 3 (ipykernel)",
   "language": "python",
   "name": "python3"
  },
  "language_info": {
   "codemirror_mode": {
    "name": "ipython",
    "version": 3
   },
   "file_extension": ".py",
   "mimetype": "text/x-python",
   "name": "python",
   "nbconvert_exporter": "python",
   "pygments_lexer": "ipython3",
   "version": "3.12.2"
  }
 },
 "nbformat": 4,
 "nbformat_minor": 5
}
