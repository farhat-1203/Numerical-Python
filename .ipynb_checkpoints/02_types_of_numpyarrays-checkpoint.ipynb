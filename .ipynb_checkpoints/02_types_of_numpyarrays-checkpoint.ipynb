{
 "cells": [
  {
   "cell_type": "markdown",
   "id": "f210f10c-e8b9-496c-aa01-7ed271bb5beb",
   "metadata": {},
   "source": [
    "### Zero Array:"
   ]
  },
  {
   "cell_type": "code",
   "execution_count": 4,
   "id": "9fc10b4e-0665-49cf-91a4-9905829a49ea",
   "metadata": {},
   "outputs": [
    {
     "name": "stdout",
     "output_type": "stream",
     "text": [
      "[[0. 0. 0. 0.]\n",
      " [0. 0. 0. 0.]\n",
      " [0. 0. 0. 0.]]\n"
     ]
    }
   ],
   "source": [
    "import numpy as np\n",
    "a_zero=np.zeros(4)  # if we want to create a 1-D array with all elements in it as zero, \n",
    "a_zero              # then we use '.zeros' function and in the bracket we pass the number of zeros we want \n",
    "\n",
    "b_zero=np.zeros((3,4))  # for 2-D array, we just specify the dimension (rows x col)\n",
    "print(b_zero)"
   ]
  },
  {
   "cell_type": "markdown",
   "id": "eff4e0ac-0f9c-43e7-83f6-bcda9669c72d",
   "metadata": {},
   "source": [
    "### One Array:"
   ]
  },
  {
   "cell_type": "code",
   "execution_count": 14,
   "id": "06f0f2bb-6628-4fdb-9968-3bbc03324588",
   "metadata": {},
   "outputs": [
    {
     "name": "stdout",
     "output_type": "stream",
     "text": [
      "1-D array with all elements in it as one:  [1. 1. 1. 1.]\n",
      "\n",
      "2-D array with all elements in it as one:  [[1. 1. 1. 1.]\n",
      " [1. 1. 1. 1.]\n",
      " [1. 1. 1. 1.]]\n"
     ]
    }
   ],
   "source": [
    "a_one=np.ones(4)\n",
    "print(\"1-D array with all elements in it as one: \",a_one)\n",
    "print()\n",
    "b_one=np.ones((3,4))\n",
    "print(\"2-D array with all elements in it as one: \",b_one)"
   ]
  },
  {
   "cell_type": "markdown",
   "id": "8ef74809-f368-4230-a34e-3d2dfb847b71",
   "metadata": {},
   "source": [
    "### Empty Array:"
   ]
  },
  {
   "cell_type": "code",
   "execution_count": 16,
   "id": "3eeb4dc5-b9bb-464f-9e28-3480303ceeb9",
   "metadata": {},
   "outputs": [
    {
     "name": "stdout",
     "output_type": "stream",
     "text": [
      "[1. 1. 1. 1.]\n"
     ]
    }
   ],
   "source": [
    "a=np.empty(4)\n",
    "print(a)    \n",
    "# An empty array takes all the elements from the previous memory"
   ]
  },
  {
   "cell_type": "markdown",
   "id": "5e1b64dd-2394-4cd8-bae1-9383f4f7aa3f",
   "metadata": {},
   "source": [
    "### An Array with a range of values:"
   ]
  },
  {
   "cell_type": "code",
   "execution_count": 18,
   "id": "e5aede39-c633-45ba-afb2-e97c503d97b1",
   "metadata": {},
   "outputs": [
    {
     "name": "stdout",
     "output_type": "stream",
     "text": [
      "[0 1 2 3]\n"
     ]
    }
   ],
   "source": [
    "# we specify the range (starting & ending point) in the 'arange()' function\n",
    "r=np.arange(4)\n",
    "print(r)"
   ]
  },
  {
   "cell_type": "markdown",
   "id": "91c27f09-ce9d-425f-835b-320fed1516c0",
   "metadata": {},
   "source": [
    "### Identity Array:\n",
    "array with diagonal elements = 1"
   ]
  },
  {
   "cell_type": "code",
   "execution_count": 25,
   "id": "b21f9953-5aed-4fc1-8f5c-fc3dea17a887",
   "metadata": {},
   "outputs": [
    {
     "name": "stdout",
     "output_type": "stream",
     "text": [
      "[[1. 0. 0.]\n",
      " [0. 1. 0.]\n",
      " [0. 0. 1.]]\n"
     ]
    }
   ],
   "source": [
    "a=np.eye(3)\n",
    "print(a)"
   ]
  },
  {
   "cell_type": "code",
   "execution_count": 27,
   "id": "8fccada5-cf27-4254-a778-ec5027018e69",
   "metadata": {},
   "outputs": [
    {
     "name": "stdout",
     "output_type": "stream",
     "text": [
      "[[1. 0. 0. 0.]\n",
      " [0. 1. 0. 0.]\n",
      " [0. 0. 1. 0.]]\n"
     ]
    }
   ],
   "source": [
    "b=np.eye(3,4)\n",
    "print(b)"
   ]
  },
  {
   "cell_type": "markdown",
   "id": "881d2a01-abba-446c-8ec9-be0d957bcd23",
   "metadata": {},
   "source": [
    "### Array with a special interval:"
   ]
  },
  {
   "cell_type": "code",
   "execution_count": 33,
   "id": "dbbde59d-a32b-4aa1-8f19-7f856652f3f1",
   "metadata": {},
   "outputs": [
    {
     "name": "stdout",
     "output_type": "stream",
     "text": [
      "[ 0.   2.5  5.   7.5 10. ]\n"
     ]
    }
   ],
   "source": [
    "a=np.linspace(0,10,num=5)\n",
    "print(a)\n",
    "# only prints the number of elements mentioned within 'num'\n",
    "# divides the total number of elements by 'num' "
   ]
  },
  {
   "cell_type": "code",
   "execution_count": null,
   "id": "1a712d9f-9fe3-439a-8db2-b0a3d96d3214",
   "metadata": {},
   "outputs": [],
   "source": []
  }
 ],
 "metadata": {
  "kernelspec": {
   "display_name": "Python 3 (ipykernel)",
   "language": "python",
   "name": "python3"
  },
  "language_info": {
   "codemirror_mode": {
    "name": "ipython",
    "version": 3
   },
   "file_extension": ".py",
   "mimetype": "text/x-python",
   "name": "python",
   "nbconvert_exporter": "python",
   "pygments_lexer": "ipython3",
   "version": "3.12.2"
  }
 },
 "nbformat": 4,
 "nbformat_minor": 5
}
