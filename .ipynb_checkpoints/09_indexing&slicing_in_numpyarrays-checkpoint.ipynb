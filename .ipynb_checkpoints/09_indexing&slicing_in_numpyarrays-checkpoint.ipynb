{
 "cells": [
  {
   "cell_type": "markdown",
   "id": "9977a68c-579e-4e0e-b71e-7bc913d9d6b6",
   "metadata": {},
   "source": [
    "### Indexing:"
   ]
  },
  {
   "cell_type": "markdown",
   "id": "e09fcaf2-67e1-4005-b796-ee55e6d89e70",
   "metadata": {},
   "source": [
    "- indexing in numpy arrays is similar to those with lists\n",
    "- we can perform both positive as well as negative indexing"
   ]
  },
  {
   "cell_type": "markdown",
   "id": "e9337f8e-ddd5-4a4d-96bc-baf043d99242",
   "metadata": {},
   "source": [
    "##### for 1-D array:"
   ]
  },
  {
   "cell_type": "code",
   "execution_count": 44,
   "id": "f334b421-0ca7-47a5-87e2-a13648917886",
   "metadata": {},
   "outputs": [
    {
     "name": "stdout",
     "output_type": "stream",
     "text": [
      "4\n"
     ]
    }
   ],
   "source": [
    "import numpy as np\n",
    "a=np.array([1,2,3,4])\n",
    "print(a[-1])           # here, we can access the 3rd element by specifying the index in the []"
   ]
  },
  {
   "cell_type": "markdown",
   "id": "1d3bbdbe-8a79-4306-8260-037ab196cc57",
   "metadata": {},
   "source": [
    "##### for 2-D array:"
   ]
  },
  {
   "cell_type": "code",
   "execution_count": 24,
   "id": "ec473e38-8293-492c-b90c-869ece908b58",
   "metadata": {},
   "outputs": [
    {
     "name": "stdout",
     "output_type": "stream",
     "text": [
      "2\n"
     ]
    }
   ],
   "source": [
    "b=np.array([[1,2],[3,4],[5,6]])\n",
    "print(b[0,1])         "
   ]
  },
  {
   "cell_type": "markdown",
   "id": "da86f24a-5723-4fbe-b0bf-6a631bb5465a",
   "metadata": {},
   "source": [
    "##### for 3-D array:"
   ]
  },
  {
   "cell_type": "code",
   "execution_count": 45,
   "id": "f78175db-4896-4a35-a011-49c4b5ff4f92",
   "metadata": {},
   "outputs": [
    {
     "name": "stdout",
     "output_type": "stream",
     "text": [
      "7\n"
     ]
    }
   ],
   "source": [
    "c=np.array([[[1,2,3],[4,5,6],[7,8,9]]])\n",
    "print(c[0,2,0])"
   ]
  },
  {
   "cell_type": "markdown",
   "id": "98fc7be5-0376-41ca-a1d1-45b890827872",
   "metadata": {},
   "source": [
    "### Slicing:"
   ]
  },
  {
   "cell_type": "markdown",
   "id": "291eacb5-417b-4237-9ab0-7d2728428366",
   "metadata": {},
   "source": [
    "##### for 1-D array:"
   ]
  },
  {
   "cell_type": "code",
   "execution_count": 46,
   "id": "00dcdd92-e0f0-4a8d-83ef-d84600c9c24e",
   "metadata": {},
   "outputs": [
    {
     "name": "stdout",
     "output_type": "stream",
     "text": [
      "[1 4]\n"
     ]
    }
   ],
   "source": [
    "import numpy as np\n",
    "a=np.array([1,2,3,4,5])\n",
    "print(a[0:5:3])           # start index : stop index : step index (kitne step ke baad jump karwana hai"
   ]
  },
  {
   "cell_type": "markdown",
   "id": "12429aa7-5ca5-4acd-93c4-c8d96c700123",
   "metadata": {},
   "source": [
    "##### for 2-D array:"
   ]
  },
  {
   "cell_type": "code",
   "execution_count": 42,
   "id": "e29be3ab-71c9-4903-bb54-8e7e395ae60a",
   "metadata": {},
   "outputs": [
    {
     "name": "stdout",
     "output_type": "stream",
     "text": [
      "[4 5 6]\n"
     ]
    }
   ],
   "source": [
    "b=np.array([[1,2,3],[4,5,6],[7,8,9]])\n",
    "print(b[1,0:3])         # [index no. of the main array, index no. of the speicified range accordingly]"
   ]
  },
  {
   "cell_type": "code",
   "execution_count": null,
   "id": "c5ffa85d-9352-43cf-9ffe-625c5694751f",
   "metadata": {},
   "outputs": [],
   "source": [
    "##### for 3-D array:"
   ]
  },
  {
   "cell_type": "code",
   "execution_count": 43,
   "id": "2b8a4a19-be56-4055-bc2f-f8d2ba99f741",
   "metadata": {},
   "outputs": [
    {
     "name": "stdout",
     "output_type": "stream",
     "text": [
      "8\n"
     ]
    }
   ],
   "source": [
    "c=np.array([[[1,2,3,4,5],[6,7,8,9,10],[11,12,13,14,15]]])\n",
    "print(c[0,1,2])"
   ]
  },
  {
   "cell_type": "code",
   "execution_count": null,
   "id": "bc05fde8-ec20-4a2a-a464-3adb283e83cc",
   "metadata": {},
   "outputs": [],
   "source": []
  }
 ],
 "metadata": {
  "kernelspec": {
   "display_name": "Python 3 (ipykernel)",
   "language": "python",
   "name": "python3"
  },
  "language_info": {
   "codemirror_mode": {
    "name": "ipython",
    "version": 3
   },
   "file_extension": ".py",
   "mimetype": "text/x-python",
   "name": "python",
   "nbconvert_exporter": "python",
   "pygments_lexer": "ipython3",
   "version": "3.12.2"
  }
 },
 "nbformat": 4,
 "nbformat_minor": 5
}
