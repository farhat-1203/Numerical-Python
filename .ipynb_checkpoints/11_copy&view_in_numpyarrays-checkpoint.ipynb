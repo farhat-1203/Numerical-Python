{
 "cells": [
  {
   "cell_type": "markdown",
   "id": "1973e4df-0c05-4051-afa3-a9d12a8e5f2d",
   "metadata": {},
   "source": [
    "##### copy():"
   ]
  },
  {
   "cell_type": "code",
   "execution_count": 19,
   "id": "3988de8c-b1f6-4a0e-a992-3b549cc0f47a",
   "metadata": {},
   "outputs": [
    {
     "name": "stdout",
     "output_type": "stream",
     "text": [
      "Original array was [1 2 8 4 5]\n",
      "Copied array is [1 2 3 4 5]\n"
     ]
    }
   ],
   "source": [
    "import numpy as np\n",
    "a=np.array([1,2,3,4,5])\n",
    "a[2]=8\n",
    "print(f\"Original array was {a}\")\n",
    "print(f\"Copied array is {copy}\")"
   ]
  },
  {
   "cell_type": "markdown",
   "id": "74ee8408-8174-4470-941d-5c4ce62c8a41",
   "metadata": {},
   "source": [
    "##### view():"
   ]
  },
  {
   "cell_type": "code",
   "execution_count": 16,
   "id": "94b1985a-a313-4005-b9a4-6d286bef2add",
   "metadata": {},
   "outputs": [
    {
     "name": "stdout",
     "output_type": "stream",
     "text": [
      "Original array was [1 2 8 4 5]\n",
      "Copied array is [1 2 8 4 5]\n"
     ]
    }
   ],
   "source": [
    "b=np.array([1,2,3,4,5])\n",
    "b[2]=8\n",
    "print(f\"Original array was {b}\")\n",
    "print(f\"Copied array is {b.view()}\")"
   ]
  },
  {
   "cell_type": "code",
   "execution_count": null,
   "id": "f500188c-b88b-4c62-825d-d6d0aeff3b6f",
   "metadata": {},
   "outputs": [],
   "source": []
  }
 ],
 "metadata": {
  "kernelspec": {
   "display_name": "Python 3 (ipykernel)",
   "language": "python",
   "name": "python3"
  },
  "language_info": {
   "codemirror_mode": {
    "name": "ipython",
    "version": 3
   },
   "file_extension": ".py",
   "mimetype": "text/x-python",
   "name": "python",
   "nbconvert_exporter": "python",
   "pygments_lexer": "ipython3",
   "version": "3.12.2"
  }
 },
 "nbformat": 4,
 "nbformat_minor": 5
}
