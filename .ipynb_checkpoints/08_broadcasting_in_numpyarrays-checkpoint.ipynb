{
 "cells": [
  {
   "cell_type": "markdown",
   "id": "c60e7580-2973-42bb-9a2f-02f395c87481",
   "metadata": {},
   "source": [
    "### Broadcasting rules says that:"
   ]
  },
  {
   "cell_type": "markdown",
   "id": "84476fb1-b141-4a6d-b03d-b8606d90ae37",
   "metadata": {},
   "source": [
    "- both the arrays should have the same dimension \n",
    "- if the dimensions of both the arrays are different, then both should have atleast one same element in it, starting from the extreme right\n",
    "- the dimension of the result array is taken by out by considering the maximum out of both the arrays\n",
    "- only then we can perform any operation"
   ]
  },
  {
   "cell_type": "code",
   "execution_count": 19,
   "id": "9e495f24-186d-4451-9568-add8db2602d9",
   "metadata": {},
   "outputs": [
    {
     "name": "stdout",
     "output_type": "stream",
     "text": [
      "[[2 3 4]\n",
      " [3 4 5]\n",
      " [4 5 6]]\n"
     ]
    }
   ],
   "source": [
    "import numpy as np\n",
    "a=np.array([1,2,3])          # a.shape = (1,3)  1 row and 3 columns\n",
    "b=np.array([[1],[2],[3]])    # b.shape = (3,1)  3 rows and 1 column\n",
    "print(np.add(a,b))           # here, since the 'shapes' follow the brd rule, therefore addition is performable here"
   ]
  },
  {
   "cell_type": "code",
   "execution_count": 17,
   "id": "f7715bfb-2017-41aa-92b7-40d874aded83",
   "metadata": {},
   "outputs": [
    {
     "name": "stdout",
     "output_type": "stream",
     "text": [
      "[[12 16]\n",
      " [20 24]]\n"
     ]
    }
   ],
   "source": [
    "c=np.array([4,8])            # c.shape = (1,2)    1 row and 2 columns\n",
    "d=np.array([[8],[16]])       # d.shape = (2,1)    2 rows and 1 column\n",
    "print(c+d) "
   ]
  },
  {
   "cell_type": "code",
   "execution_count": null,
   "id": "8dfba450-d3b3-449b-9983-4690d44f7038",
   "metadata": {},
   "outputs": [],
   "source": []
  }
 ],
 "metadata": {
  "kernelspec": {
   "display_name": "Python 3 (ipykernel)",
   "language": "python",
   "name": "python3"
  },
  "language_info": {
   "codemirror_mode": {
    "name": "ipython",
    "version": 3
   },
   "file_extension": ".py",
   "mimetype": "text/x-python",
   "name": "python",
   "nbconvert_exporter": "python",
   "pygments_lexer": "ipython3",
   "version": "3.12.2"
  }
 },
 "nbformat": 4,
 "nbformat_minor": 5
}
