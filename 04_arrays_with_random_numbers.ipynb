{
 "cells": [
  {
   "cell_type": "markdown",
   "id": "2e28b1d2-bfa8-4248-9ec6-ca517335695b",
   "metadata": {},
   "source": [
    "### Creating NumPy arrays with random numbers:"
   ]
  },
  {
   "cell_type": "markdown",
   "id": "fee4c155-d335-4992-87ea-775956e621c8",
   "metadata": {},
   "source": [
    "#### 1) rand(): used to generate a random value b/w 0 to 1."
   ]
  },
  {
   "cell_type": "code",
   "execution_count": 2,
   "id": "df6349fe-72cd-44f5-8cc1-a98f75c4a029",
   "metadata": {},
   "outputs": [
    {
     "data": {
      "text/plain": [
       "array([0.01670088, 0.69227497])"
      ]
     },
     "execution_count": 2,
     "metadata": {},
     "output_type": "execute_result"
    }
   ],
   "source": [
    "import numpy as np\n",
    "a=np.random.rand(2)    #  for 1-d array, we just call the random module and then we provide the desired function, \n",
    "a                      # and in bracket we specify the number of values we want."
   ]
  },
  {
   "cell_type": "code",
   "execution_count": 3,
   "id": "bca287dc-571d-4fe9-9d82-8747d15be29c",
   "metadata": {},
   "outputs": [
    {
     "data": {
      "text/plain": [
       "array([[0.32607742, 0.57859909, 0.62505899, 0.71511205, 0.97149278],\n",
       "       [0.68464965, 0.21688499, 0.5322242 , 0.33039404, 0.88178704]])"
      ]
     },
     "execution_count": 3,
     "metadata": {},
     "output_type": "execute_result"
    }
   ],
   "source": [
    "b=np.random.rand(2,5)      # for 2-D array, we just specify the dimension (rows x col) inside rand\n",
    "b"
   ]
  },
  {
   "cell_type": "markdown",
   "id": "a6201d5a-430d-4379-bb3c-96ffc0503fd4",
   "metadata": {},
   "source": [
    "#### 2) randn(): \n",
    "- used to generate a random value close to zero.\n",
    "- this may return positive or negative numbers as well."
   ]
  },
  {
   "cell_type": "code",
   "execution_count": 4,
   "id": "e19ee379-1b80-4de2-82b3-8028b48634d4",
   "metadata": {},
   "outputs": [
    {
     "data": {
      "text/plain": [
       "array([-1.72038904,  0.10714601])"
      ]
     },
     "execution_count": 4,
     "metadata": {},
     "output_type": "execute_result"
    }
   ],
   "source": [
    "a=np.random.randn(2)\n",
    "a"
   ]
  },
  {
   "cell_type": "code",
   "execution_count": 15,
   "id": "69e32111-b2ef-4437-85ef-b4f315d5a708",
   "metadata": {},
   "outputs": [
    {
     "name": "stdout",
     "output_type": "stream",
     "text": [
      "[[ 1.03479234  0.31477288  0.96337752]\n",
      " [ 1.0156692  -2.14010817  0.4793107 ]\n",
      " [ 1.34506956  0.70147427 -0.72127289]\n",
      " [-2.60742349  1.82449686 -0.76625646]]\n"
     ]
    }
   ],
   "source": [
    "b=np.random.randn(4,3)\n",
    "print(b)"
   ]
  },
  {
   "cell_type": "markdown",
   "id": "5dadd5be-7a6c-45ff-8b4e-e7bb221cd3a2",
   "metadata": {},
   "source": [
    "#### 3) ranf():\n",
    "- used for doing random sampling in numpy.\n",
    "- returns an array of specified shape and fills it with random float in the half open interval [0.0,1.0)."
   ]
  },
  {
   "cell_type": "code",
   "execution_count": 20,
   "id": "45e30e75-1b7f-4c2c-a4d5-70e6ddbdabd6",
   "metadata": {},
   "outputs": [
    {
     "data": {
      "text/plain": [
       "array([0.17470251, 0.50027684, 0.08834456, 0.67388893])"
      ]
     },
     "execution_count": 20,
     "metadata": {},
     "output_type": "execute_result"
    }
   ],
   "source": [
    "a=np.random.ranf(4)   # only generates a random number b/w 0 and 1 \n",
    "a                     # here, min and max are pre-defined"
   ]
  },
  {
   "cell_type": "markdown",
   "id": "c2f75d76-759f-4f64-a53b-5e15977188d2",
   "metadata": {},
   "source": [
    "#### 4) randint(): \n",
    "- used to generate a random number b/w a given range.\n",
    "- var=np.random.randint(min,max,total)"
   ]
  },
  {
   "cell_type": "code",
   "execution_count": 34,
   "id": "4de95983-aa07-4757-998a-97930ac183db",
   "metadata": {},
   "outputs": [
    {
     "name": "stdout",
     "output_type": "stream",
     "text": [
      "[8 1 1 3 5]\n"
     ]
    }
   ],
   "source": [
    "a=np.random.randint(1,10,5)   # generates any random number sequence\n",
    "print(a)                  "
   ]
  },
  {
   "cell_type": "code",
   "execution_count": 33,
   "id": "d795a220-db25-497c-bb1e-c8135b3724f4",
   "metadata": {},
   "outputs": [
    {
     "name": "stdout",
     "output_type": "stream",
     "text": [
      "[85 28 24 55 93 44 41 88 17 76]\n"
     ]
    }
   ],
   "source": [
    "b=np.random.randint(1,100,10)\n",
    "print(b)"
   ]
  },
  {
   "cell_type": "code",
   "execution_count": null,
   "id": "d5148cd8-0012-439c-85d3-d351f8cf7bee",
   "metadata": {},
   "outputs": [],
   "source": []
  }
 ],
 "metadata": {
  "kernelspec": {
   "display_name": "Python 3 (ipykernel)",
   "language": "python",
   "name": "python3"
  },
  "language_info": {
   "codemirror_mode": {
    "name": "ipython",
    "version": 3
   },
   "file_extension": ".py",
   "mimetype": "text/x-python",
   "name": "python",
   "nbconvert_exporter": "python",
   "pygments_lexer": "ipython3",
   "version": "3.12.2"
  }
 },
 "nbformat": 4,
 "nbformat_minor": 5
}
