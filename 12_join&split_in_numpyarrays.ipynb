{
 "cells": [
  {
   "cell_type": "markdown",
   "id": "c37e972c-492d-4357-85c8-94e6b2b6237e",
   "metadata": {},
   "source": [
    "### Joining of arrays:"
   ]
  },
  {
   "cell_type": "markdown",
   "id": "cf668b12-ebc4-4764-82d2-72054e5c09c3",
   "metadata": {},
   "source": [
    "for 1-D array:"
   ]
  },
  {
   "cell_type": "code",
   "execution_count": 23,
   "id": "3154ca40-4393-466f-8b99-268b1a5c43ed",
   "metadata": {},
   "outputs": [
    {
     "name": "stdout",
     "output_type": "stream",
     "text": [
      "[1 2 3 4 5 6 7 8]\n"
     ]
    }
   ],
   "source": [
    "import numpy as np\n",
    "a=np.array([1,2,3,4])\n",
    "b=np.array([5,6,7,8])\n",
    "print(np.concatenate((a,b)))"
   ]
  },
  {
   "cell_type": "markdown",
   "id": "6e6f79a4-68ff-47ae-8148-e5dc9901ed9c",
   "metadata": {},
   "source": [
    "for 2-D array:"
   ]
  },
  {
   "cell_type": "code",
   "execution_count": 24,
   "id": "64296943-da7d-4efd-8919-542b14ee4241",
   "metadata": {},
   "outputs": [
    {
     "name": "stdout",
     "output_type": "stream",
     "text": [
      "[[1 2 3 4]\n",
      " [5 6 7 8]\n",
      " [1 3 5 7]\n",
      " [2 4 6 8]]\n"
     ]
    }
   ],
   "source": [
    "a=np.array([[1,2,3,4],[5,6,7,8]])\n",
    "b=np.array([[1,3,5,7],[2,4,6,8]])\n",
    "print(np.concatenate((a,b), axis=0))"
   ]
  },
  {
   "cell_type": "markdown",
   "id": "fa8b4e8e-87f5-4e13-99fd-acd39167b021",
   "metadata": {},
   "source": [
    "for 3-D array:"
   ]
  },
  {
   "cell_type": "code",
   "execution_count": 25,
   "id": "0b433d00-05c9-421b-a4b2-2c40825b2e57",
   "metadata": {},
   "outputs": [
    {
     "name": "stdout",
     "output_type": "stream",
     "text": [
      "[[[ 1  2  3]\n",
      "  [ 4  5  6]\n",
      "  [ 7  8  9]\n",
      "  [ 2  4  6]\n",
      "  [ 3  6  9]\n",
      "  [ 4  8 12]]]\n"
     ]
    }
   ],
   "source": [
    "a=np.array([[[1,2,3],[4,5,6],[7,8,9]]])\n",
    "b=np.array([[[2,4,6],[3,6,9],[4,8,12]]])\n",
    "print(np.concatenate((a,b), axis=1))"
   ]
  },
  {
   "cell_type": "code",
   "execution_count": 26,
   "id": "982a1ca0-f3d0-4fa4-9779-f4c33d5081b2",
   "metadata": {},
   "outputs": [
    {
     "name": "stdout",
     "output_type": "stream",
     "text": [
      "[[[ 1  2  3]\n",
      "  [ 4  5  6]\n",
      "  [ 7  8  9]]\n",
      "\n",
      " [[ 2  4  6]\n",
      "  [ 3  6  9]\n",
      "  [ 4  8 12]]]\n"
     ]
    }
   ],
   "source": [
    "# we can also join two arrays by using 'stack' function\n",
    "a=np.array([[[1,2,3],[4,5,6],[7,8,9]]])\n",
    "b=np.array([[[2,4,6],[3,6,9],[4,8,12]]])\n",
    "# print(np.stack((a,b), axis=1))\n",
    "print(np.vstack((a,b)))"
   ]
  },
  {
   "cell_type": "markdown",
   "id": "08cc7c11-90b8-41a0-813d-060962839668",
   "metadata": {},
   "source": [
    "### Splitting of an array:"
   ]
  },
  {
   "cell_type": "code",
   "execution_count": 31,
   "id": "f6ea5dfc-32c5-4f78-a0c7-f8d7506b306b",
   "metadata": {},
   "outputs": [
    {
     "name": "stdout",
     "output_type": "stream",
     "text": [
      "[array([1]), array([2]), array([3]), array([4]), array([5])]\n"
     ]
    }
   ],
   "source": [
    "import numpy as np\n",
    "a=np.array([1,2,3,4,5])\n",
    "print(np.split(a,5))"
   ]
  },
  {
   "cell_type": "code",
   "execution_count": 36,
   "id": "49e724cc-9888-4ac2-b46f-8be4cf90469f",
   "metadata": {},
   "outputs": [
    {
     "name": "stdout",
     "output_type": "stream",
     "text": [
      "[array([[1, 2, 3]]), array([[4, 5, 6]]), array([[7, 8, 9]])]\n"
     ]
    }
   ],
   "source": [
    "b=np.array([[1,2,3],[4,5,6],[7,8,9]])\n",
    "print(np.split(b,3))"
   ]
  },
  {
   "cell_type": "code",
   "execution_count": 41,
   "id": "6454f340-133e-49cc-9a22-8c21924d81eb",
   "metadata": {},
   "outputs": [
    {
     "ename": "ValueError",
     "evalue": "array split does not result in an equal division",
     "output_type": "error",
     "traceback": [
      "\u001b[1;31m---------------------------------------------------------------------------\u001b[0m",
      "\u001b[1;31mValueError\u001b[0m                                Traceback (most recent call last)",
      "Cell \u001b[1;32mIn[41], line 2\u001b[0m\n\u001b[0;32m      1\u001b[0m c\u001b[38;5;241m=\u001b[39mnp\u001b[38;5;241m.\u001b[39marray([[[\u001b[38;5;241m1\u001b[39m,\u001b[38;5;241m2\u001b[39m,\u001b[38;5;241m3\u001b[39m,\u001b[38;5;241m4\u001b[39m,\u001b[38;5;241m5\u001b[39m],[\u001b[38;5;241m6\u001b[39m,\u001b[38;5;241m7\u001b[39m,\u001b[38;5;241m8\u001b[39m,\u001b[38;5;241m9\u001b[39m,\u001b[38;5;241m10\u001b[39m],[\u001b[38;5;241m11\u001b[39m,\u001b[38;5;241m12\u001b[39m,\u001b[38;5;241m13\u001b[39m,\u001b[38;5;241m14\u001b[39m,\u001b[38;5;241m15\u001b[39m]]])\n\u001b[1;32m----> 2\u001b[0m \u001b[38;5;28mprint\u001b[39m(\u001b[43mnp\u001b[49m\u001b[38;5;241;43m.\u001b[39;49m\u001b[43msplit\u001b[49m\u001b[43m(\u001b[49m\u001b[43mc\u001b[49m\u001b[43m,\u001b[49m\u001b[38;5;241;43m3\u001b[39;49m\u001b[43m)\u001b[49m)\n",
      "File \u001b[1;32m~\\AppData\\Local\\Programs\\Python\\Python312\\Lib\\site-packages\\numpy\\lib\\shape_base.py:864\u001b[0m, in \u001b[0;36msplit\u001b[1;34m(ary, indices_or_sections, axis)\u001b[0m\n\u001b[0;32m    862\u001b[0m     N \u001b[38;5;241m=\u001b[39m ary\u001b[38;5;241m.\u001b[39mshape[axis]\n\u001b[0;32m    863\u001b[0m     \u001b[38;5;28;01mif\u001b[39;00m N \u001b[38;5;241m%\u001b[39m sections:\n\u001b[1;32m--> 864\u001b[0m         \u001b[38;5;28;01mraise\u001b[39;00m \u001b[38;5;167;01mValueError\u001b[39;00m(\n\u001b[0;32m    865\u001b[0m             \u001b[38;5;124m'\u001b[39m\u001b[38;5;124marray split does not result in an equal division\u001b[39m\u001b[38;5;124m'\u001b[39m) \u001b[38;5;28;01mfrom\u001b[39;00m \u001b[38;5;28;01mNone\u001b[39;00m\n\u001b[0;32m    866\u001b[0m \u001b[38;5;28;01mreturn\u001b[39;00m array_split(ary, indices_or_sections, axis)\n",
      "\u001b[1;31mValueError\u001b[0m: array split does not result in an equal division"
     ]
    }
   ],
   "source": [
    "c=np.array([[[1,2,3,4,5],[6,7,8,9,10],[11,12,13,14,15]]])\n",
    "# print(np.split(c,3))"
   ]
  },
  {
   "cell_type": "code",
   "execution_count": null,
   "id": "ea100bca-cf53-4ffb-a026-8447c7a86c98",
   "metadata": {},
   "outputs": [],
   "source": []
  }
 ],
 "metadata": {
  "kernelspec": {
   "display_name": "Python 3 (ipykernel)",
   "language": "python",
   "name": "python3"
  },
  "language_info": {
   "codemirror_mode": {
    "name": "ipython",
    "version": 3
   },
   "file_extension": ".py",
   "mimetype": "text/x-python",
   "name": "python",
   "nbconvert_exporter": "python",
   "pygments_lexer": "ipython3",
   "version": "3.12.2"
  }
 },
 "nbformat": 4,
 "nbformat_minor": 5
}
