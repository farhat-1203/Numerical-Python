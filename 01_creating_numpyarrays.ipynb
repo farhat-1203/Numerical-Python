{
 "cells": [
  {
   "cell_type": "markdown",
   "id": "2df455f8-9c87-4933-9e2b-6b00779c7d2b",
   "metadata": {},
   "source": [
    "Creating arrays and displaying it's dimension:"
   ]
  },
  {
   "cell_type": "code",
   "execution_count": 9,
   "id": "498d267a-4a63-44b6-98cf-f13b9135eb11",
   "metadata": {},
   "outputs": [
    {
     "name": "stdout",
     "output_type": "stream",
     "text": [
      "[1 2 3]\n",
      "1\n"
     ]
    }
   ],
   "source": [
    "# To create a numpy array, we can use the function np.array()\n",
    "import numpy as np\n",
    "a= np.array([1,2,3])\n",
    "print(a)\n",
    "print(\"The dimension of the array is: \",a.ndim)    # 'ndim' shows the dimension of the array"
   ]
  },
  {
   "cell_type": "markdown",
   "id": "d4f6db1f-ce9f-4ce3-bed1-a4e36b624bfc",
   "metadata": {},
   "source": [
    "Array:"
   ]
  },
  {
   "cell_type": "code",
   "execution_count": 33,
   "id": "046a6063-0aad-47fb-aaf4-2cdf043ccd2e",
   "metadata": {},
   "outputs": [
    {
     "name": "stdout",
     "output_type": "stream",
     "text": [
      "The dimension of the array is:  1\n"
     ]
    }
   ],
   "source": [
    "import numpy as np\n",
    "x=[1,2,3,4]\n",
    "y=np.array(x)\n",
    "y          # if we just want to print the array elements, then we use print function, else we just simply write the var name representing that array.\n",
    "print(\"The dimension of the array is: \",y.ndim)"
   ]
  },
  {
   "cell_type": "code",
   "execution_count": 34,
   "id": "5c163e7b-1dc1-4f28-bf03-f4e8a96a6cac",
   "metadata": {},
   "outputs": [
    {
     "name": "stdin",
     "output_type": "stream",
     "text": [
      "Enter the array elements:  1\n",
      "Enter the array elements:  2\n",
      "Enter the array elements:  3\n",
      "Enter the array elements:  4\n",
      "Enter the array elements:  5\n"
     ]
    },
    {
     "name": "stdout",
     "output_type": "stream",
     "text": [
      "[1 2 3 4 5]\n"
     ]
    }
   ],
   "source": [
    "# taking the array elements as a user input\n",
    "list=[]       \n",
    "for i in range(5):\n",
    "    array=int(input(\"Enter the array elements: \"))\n",
    "    list.append(array)\n",
    "print(np.array(list))"
   ]
  },
  {
   "cell_type": "code",
   "execution_count": 35,
   "id": "b2d82e6a-e7f0-499f-a426-83e4963e2c82",
   "metadata": {},
   "outputs": [
    {
     "name": "stdout",
     "output_type": "stream",
     "text": [
      "[[1 2 3 4]\n",
      " [5 6 7 8]]\n",
      "The dimension of the array is:  2\n"
     ]
    }
   ],
   "source": [
    "# 2-D array\n",
    "x=np.array([[1,2,3,4],[5,6,7,8]])\n",
    "print(x)\n",
    "print(\"The dimension of the array is: \",x.ndim)"
   ]
  },
  {
   "cell_type": "code",
   "execution_count": 36,
   "id": "acc816bf-6517-497b-90d5-20ae759734e8",
   "metadata": {},
   "outputs": [
    {
     "name": "stdout",
     "output_type": "stream",
     "text": [
      "3\n"
     ]
    }
   ],
   "source": [
    "# 3-D array\n",
    "y=np.array([[[1,2,3],[4,5,6],[7,8,9]]])\n",
    "y\n",
    "print(y.ndim)\n",
    "\n",
    "# y=np.array([1,2,3],ndmin=3)\n",
    "# print(y)"
   ]
  },
  {
   "cell_type": "code",
   "execution_count": 41,
   "id": "4c7d58c3-4668-4f08-a0e6-69fb2dd16366",
   "metadata": {},
   "outputs": [
    {
     "name": "stdout",
     "output_type": "stream",
     "text": [
      "The dimension of the array is:  10\n"
     ]
    }
   ],
   "source": [
    "n=np.array([1,2,3,4],ndmin=10)   # 'ndmin' function is used to give the dimension\n",
    "n                                # 'ndim' shows the dimension of the array\n",
    "print(\"The dimension of the array is: \",n.ndim)"
   ]
  },
  {
   "cell_type": "code",
   "execution_count": null,
   "id": "aaca50fc-2c5d-44a1-bcd4-7eced4cdff31",
   "metadata": {},
   "outputs": [],
   "source": []
  }
 ],
 "metadata": {
  "kernelspec": {
   "display_name": "Python 3 (ipykernel)",
   "language": "python",
   "name": "python3"
  },
  "language_info": {
   "codemirror_mode": {
    "name": "ipython",
    "version": 3
   },
   "file_extension": ".py",
   "mimetype": "text/x-python",
   "name": "python",
   "nbconvert_exporter": "python",
   "pygments_lexer": "ipython3",
   "version": "3.12.2"
  }
 },
 "nbformat": 4,
 "nbformat_minor": 5
}
